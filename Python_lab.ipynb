{
  "nbformat": 4,
  "nbformat_minor": 0,
  "metadata": {
    "colab": {
      "provenance": [],
      "include_colab_link": true
    },
    "kernelspec": {
      "name": "python3",
      "display_name": "Python 3"
    },
    "language_info": {
      "name": "python"
    }
  },
  "cells": [
    {
      "cell_type": "markdown",
      "metadata": {
        "id": "view-in-github",
        "colab_type": "text"
      },
      "source": [
        "<a href=\"https://colab.research.google.com/github/RayonBiswas/python_lab/blob/main/Python_lab.ipynb\" target=\"_parent\"><img src=\"https://colab.research.google.com/assets/colab-badge.svg\" alt=\"Open In Colab\"/></a>"
      ]
    },
    {
      "cell_type": "markdown",
      "source": [
        "# Python Lab 31/7/2025"
      ],
      "metadata": {
        "id": "WS-3H2sOTBUs"
      }
    },
    {
      "cell_type": "code",
      "source": [
        "print(1)\n",
        "\n",
        "x = 2\n",
        "print(x)"
      ],
      "metadata": {
        "colab": {
          "base_uri": "https://localhost:8080/"
        },
        "id": "uhJoV-Uoj7RL",
        "outputId": "e2babbd1-b1b0-41dc-cc5d-5122f4af7342"
      },
      "execution_count": null,
      "outputs": [
        {
          "output_type": "stream",
          "name": "stdout",
          "text": [
            "1\n",
            "2\n"
          ]
        }
      ]
    },
    {
      "cell_type": "code",
      "source": [
        "print(\"My name is rohan\")\n",
        "\n",
        "name = \"rohan\"\n",
        "\n",
        "print(name)"
      ],
      "metadata": {
        "colab": {
          "base_uri": "https://localhost:8080/"
        },
        "id": "B11OlTaTj9hk",
        "outputId": "846b1793-3ded-4f63-8ed8-65330800bf92"
      },
      "execution_count": null,
      "outputs": [
        {
          "output_type": "stream",
          "name": "stdout",
          "text": [
            "My name is rohan\n",
            "rohan\n"
          ]
        }
      ]
    },
    {
      "cell_type": "code",
      "source": [
        "message = 'Good Morning !'\n",
        "\n",
        "print (message)\n",
        "\n",
        "note =\"'This is Paragraph of my text'\"\n",
        "\n",
        "print(note)"
      ],
      "metadata": {
        "colab": {
          "base_uri": "https://localhost:8080/"
        },
        "id": "SA03qyk6j_nX",
        "outputId": "91128727-b6b0-47c9-e928-c7165048f9ca"
      },
      "execution_count": null,
      "outputs": [
        {
          "output_type": "stream",
          "name": "stdout",
          "text": [
            "Good Morning !\n",
            "'This is Paragraph of my text'\n"
          ]
        }
      ]
    },
    {
      "cell_type": "code",
      "source": [
        "#Indexing\n",
        "\n",
        "s=\"Python Rocks \"\n",
        "\n",
        "print(s[0:6])\n",
        "\n",
        "print(s[7:])\n",
        "\n",
        "print(s[3:9])\n"
      ],
      "metadata": {
        "colab": {
          "base_uri": "https://localhost:8080/"
        },
        "id": "SS47Td-lkBpN",
        "outputId": "2e2f9143-8005-4756-832b-0bcc86beca40"
      },
      "execution_count": null,
      "outputs": [
        {
          "output_type": "stream",
          "name": "stdout",
          "text": [
            "Python\n",
            "Rocks \n",
            "hon Ro\n"
          ]
        }
      ]
    },
    {
      "cell_type": "code",
      "source": [
        "#Concatenation(Jioning Strings)\n",
        "\n",
        "greeting= \"Hello \"\n",
        "name = \"Coder\"\n",
        "\n",
        "print(greeting + name)\n",
        "\n",
        "print ( s + \" is fun!\")"
      ],
      "metadata": {
        "colab": {
          "base_uri": "https://localhost:8080/"
        },
        "id": "lwyDehMUkD8J",
        "outputId": "a2fa8d68-c4aa-430c-de36-342822afba4b"
      },
      "execution_count": null,
      "outputs": [
        {
          "output_type": "stream",
          "name": "stdout",
          "text": [
            "Hello Coder\n",
            "Python Rocks  is fun!\n"
          ]
        }
      ]
    },
    {
      "cell_type": "code",
      "source": [
        "#Repetition\n",
        "\n",
        "print (s*2)\n"
      ],
      "metadata": {
        "colab": {
          "base_uri": "https://localhost:8080/"
        },
        "id": "-YkTV2FWkF_y",
        "outputId": "4788ff3e-e84e-4440-b4e2-ace10fb97c87"
      },
      "execution_count": null,
      "outputs": [
        {
          "output_type": "stream",
          "name": "stdout",
          "text": [
            "Python Rocks Python Rocks \n"
          ]
        }
      ]
    },
    {
      "cell_type": "code",
      "source": [
        "\n",
        "#Membership\n",
        "\n",
        "print(\"P\" in s)\n",
        "\n",
        "print(\"Rocks\" in s)\n",
        "\n",
        "print(\"python\" in s)\n",
        "\n",
        "s[-1]\n",
        "\n",
        "p = 'VJTI is cool'\n",
        "\n",
        "print(p)"
      ],
      "metadata": {
        "colab": {
          "base_uri": "https://localhost:8080/"
        },
        "id": "Rrt0tzPHkI6i",
        "outputId": "86ed0d9e-446b-438e-e816-31b32845f6da"
      },
      "execution_count": null,
      "outputs": [
        {
          "output_type": "stream",
          "name": "stdout",
          "text": [
            "True\n",
            "True\n",
            "False\n",
            "VJTI is cool\n"
          ]
        }
      ]
    },
    {
      "cell_type": "code",
      "source": [
        "#LIST\n",
        "\n",
        "fruits = [\"Apple\" , \"Banana\" , \"Cherry\" , \"Mango\"]"
      ],
      "metadata": {
        "id": "6s8vExgCkLmE"
      },
      "execution_count": null,
      "outputs": []
    },
    {
      "cell_type": "code",
      "source": [
        "print(fruits[1:2])\n",
        "print(fruits[2:])\n",
        "print(fruits[2:4])"
      ],
      "metadata": {
        "colab": {
          "base_uri": "https://localhost:8080/"
        },
        "id": "8dMJEAn5jbbJ",
        "outputId": "162d4261-cc7d-4ced-8f01-04076df5cb04"
      },
      "execution_count": null,
      "outputs": [
        {
          "output_type": "stream",
          "name": "stdout",
          "text": [
            "['Banana']\n",
            "['Cherry', 'Mango']\n",
            "['Cherry', 'Mango']\n"
          ]
        }
      ]
    },
    {
      "cell_type": "code",
      "source": [
        "veggis=[\"carrot\", \"tomato\"]\n",
        "baskets=veggis+fruits\n",
        "print(baskets)"
      ],
      "metadata": {
        "colab": {
          "base_uri": "https://localhost:8080/"
        },
        "id": "RYjo0CoPju95",
        "outputId": "7b2e9d72-a113-41f5-a8af-e3fd64b20957"
      },
      "execution_count": null,
      "outputs": [
        {
          "output_type": "stream",
          "name": "stdout",
          "text": [
            "['carrot', 'tomato', 'Apple', 'Banana', 'Cherry', 'Mango']\n"
          ]
        }
      ]
    },
    {
      "cell_type": "code",
      "source": [
        "print(veggis*2)"
      ],
      "metadata": {
        "colab": {
          "base_uri": "https://localhost:8080/"
        },
        "id": "DFriT5vqkOc-",
        "outputId": "609d9e1e-15fe-4cf7-e9b4-c9922d1d2d84"
      },
      "execution_count": null,
      "outputs": [
        {
          "output_type": "stream",
          "name": "stdout",
          "text": [
            "['carrot', 'tomato', 'carrot', 'tomato']\n"
          ]
        }
      ]
    },
    {
      "cell_type": "code",
      "source": [
        "print(\"banana\" in fruits)\n"
      ],
      "metadata": {
        "colab": {
          "base_uri": "https://localhost:8080/"
        },
        "id": "7bhCbZGvkSTn",
        "outputId": "7c1d86ce-b291-4d12-b555-89da1af90402"
      },
      "execution_count": null,
      "outputs": [
        {
          "output_type": "stream",
          "name": "stdout",
          "text": [
            "False\n"
          ]
        }
      ]
    },
    {
      "cell_type": "code",
      "source": [
        "fruits[1]=\"orange\"\n",
        "print(fruits)"
      ],
      "metadata": {
        "colab": {
          "base_uri": "https://localhost:8080/"
        },
        "id": "9yDUro9VkZi4",
        "outputId": "59bb62d4-5fda-4496-808a-697241420728"
      },
      "execution_count": null,
      "outputs": [
        {
          "output_type": "stream",
          "name": "stdout",
          "text": [
            "['Apple', 'orange', 'Cherry', 'Mango']\n"
          ]
        }
      ]
    },
    {
      "cell_type": "code",
      "source": [
        "fruits.insert(2,\"grapes\")\n",
        "print(fruits)"
      ],
      "metadata": {
        "colab": {
          "base_uri": "https://localhost:8080/"
        },
        "id": "Ww_soFR2lTQu",
        "outputId": "2a9f6a3b-a298-4b7b-89fb-021778c0902b"
      },
      "execution_count": null,
      "outputs": [
        {
          "output_type": "stream",
          "name": "stdout",
          "text": [
            "['Apple', 'orange', 'grapes', 'Cherry', 'Mango']\n"
          ]
        }
      ]
    },
    {
      "cell_type": "code",
      "source": [
        "fruits.append(\"kiwi\")\n",
        "print(fruits)"
      ],
      "metadata": {
        "colab": {
          "base_uri": "https://localhost:8080/"
        },
        "id": "mkKOqiZyknei",
        "outputId": "5e14cf96-de75-45e6-e564-36146115d063"
      },
      "execution_count": null,
      "outputs": [
        {
          "output_type": "stream",
          "name": "stdout",
          "text": [
            "['Apple', 'orange', 'grapes', 'Cherry', 'Mango', 'kiwi']\n"
          ]
        }
      ]
    },
    {
      "cell_type": "code",
      "source": [
        "fruits.remove(\"Apple\")\n",
        "print(fruits)"
      ],
      "metadata": {
        "colab": {
          "base_uri": "https://localhost:8080/"
        },
        "id": "SgNCtvgTliri",
        "outputId": "fcfaaf77-071a-4225-a6da-9eb35e3a5ab3"
      },
      "execution_count": null,
      "outputs": [
        {
          "output_type": "stream",
          "name": "stdout",
          "text": [
            "['orange', 'grapes', 'Cherry', 'Mango', 'kiwi']\n"
          ]
        }
      ]
    },
    {
      "cell_type": "code",
      "source": [
        "del fruits[1]\n",
        "print(fruits)"
      ],
      "metadata": {
        "colab": {
          "base_uri": "https://localhost:8080/"
        },
        "id": "eqlBm9-BltqY",
        "outputId": "ae6b0fba-9901-49cf-d1e9-c88845e2866b"
      },
      "execution_count": null,
      "outputs": [
        {
          "output_type": "stream",
          "name": "stdout",
          "text": [
            "['orange', 'Cherry', 'Mango', 'kiwi']\n"
          ]
        }
      ]
    },
    {
      "cell_type": "code",
      "source": [
        "for _ in fruits:\n",
        "  print(_)"
      ],
      "metadata": {
        "colab": {
          "base_uri": "https://localhost:8080/"
        },
        "id": "OLT1vNqomO-X",
        "outputId": "90a549b1-497e-4b95-b325-ed15b95f30d5"
      },
      "execution_count": null,
      "outputs": [
        {
          "output_type": "stream",
          "name": "stdout",
          "text": [
            "orange\n",
            "Cherry\n",
            "Mango\n",
            "kiwi\n"
          ]
        }
      ]
    },
    {
      "cell_type": "code",
      "source": [
        "subjects=(\"maths\" ,\"english\", \"marathi\", \"hindi\", \"history\")\n",
        "print(subjects)"
      ],
      "metadata": {
        "colab": {
          "base_uri": "https://localhost:8080/"
        },
        "id": "26MvGhocnFzn",
        "outputId": "8d817e2c-b83e-491f-9e10-09ea9c9bedd7"
      },
      "execution_count": null,
      "outputs": [
        {
          "output_type": "stream",
          "name": "stdout",
          "text": [
            "('maths', 'english', 'marathi', 'hindi', 'history')\n"
          ]
        }
      ]
    },
    {
      "cell_type": "code",
      "source": [
        "print(subjects[0])\n",
        "print(subjects[-1])\n"
      ],
      "metadata": {
        "colab": {
          "base_uri": "https://localhost:8080/"
        },
        "id": "1gl95_ivoXBM",
        "outputId": "5b44338f-e39c-4e86-981e-db044104655b"
      },
      "execution_count": null,
      "outputs": [
        {
          "output_type": "stream",
          "name": "stdout",
          "text": [
            "maths\n",
            "history\n"
          ]
        }
      ]
    },
    {
      "cell_type": "code",
      "source": [
        "print(subjects[1:4])\n",
        "print(subjects[:3])"
      ],
      "metadata": {
        "colab": {
          "base_uri": "https://localhost:8080/"
        },
        "id": "BQp8zrP_oiyr",
        "outputId": "106852b7-ae4c-4819-cb7d-c3e4d8148b24"
      },
      "execution_count": null,
      "outputs": [
        {
          "output_type": "stream",
          "name": "stdout",
          "text": [
            "('english', 'marathi', 'hindi')\n",
            "('maths', 'english', 'marathi')\n"
          ]
        }
      ]
    },
    {
      "cell_type": "code",
      "source": [
        "sport=(\"pe\", \"yoga\")\n",
        "all_lec=subjects+sport\n",
        "print(all_lec)"
      ],
      "metadata": {
        "colab": {
          "base_uri": "https://localhost:8080/"
        },
        "id": "W_B5p5UIo5wh",
        "outputId": "c3dce020-1b93-4d20-fe1a-1d78d9ee8809"
      },
      "execution_count": null,
      "outputs": [
        {
          "output_type": "stream",
          "name": "stdout",
          "text": [
            "('maths', 'english', 'marathi', 'hindi', 'history', 'pe', 'yoga')\n"
          ]
        }
      ]
    },
    {
      "cell_type": "code",
      "source": [
        "print(sport*2)"
      ],
      "metadata": {
        "id": "XJT-lF9GpUwF",
        "outputId": "7cdafef9-7139-41c4-c2f7-6e363eab7aac",
        "colab": {
          "base_uri": "https://localhost:8080/"
        }
      },
      "execution_count": null,
      "outputs": [
        {
          "output_type": "stream",
          "name": "stdout",
          "text": [
            "('pe', 'yoga', 'pe', 'yoga')\n"
          ]
        }
      ]
    },
    {
      "cell_type": "markdown",
      "source": [
        "# Python Lab 6/8/2025"
      ],
      "metadata": {
        "id": "TLcx-v-WHv44"
      }
    },
    {
      "cell_type": "code",
      "source": [
        "mytuple = (\"apple\", \"banana\", \"cherry\")\n",
        "print(type(mytuple))\n",
        "print(mytuple[1])\n",
        "# Slicing\n",
        "print(mytuple[1:3])\n",
        "print(mytuple*2)"
      ],
      "metadata": {
        "id": "UZxa-rThpUcd",
        "colab": {
          "base_uri": "https://localhost:8080/"
        },
        "outputId": "f4eade32-28ff-42d9-f98e-79480c67732d"
      },
      "execution_count": null,
      "outputs": [
        {
          "output_type": "stream",
          "name": "stdout",
          "text": [
            "<class 'tuple'>\n",
            "banana\n",
            "('banana', 'cherry')\n",
            "('apple', 'banana', 'cherry', 'apple', 'banana', 'cherry')\n"
          ]
        }
      ]
    },
    {
      "cell_type": "code",
      "source": [],
      "metadata": {
        "id": "_shUEhR7YMuC"
      },
      "execution_count": null,
      "outputs": []
    },
    {
      "cell_type": "code",
      "source": [
        "# Create a dictionary\n",
        "my_dict = {\"brand\": \"Ford\", \"model\": \"Mustang\", \"year\": 1964}\n",
        "print(\"Original dictionary:\", my_dict)\n",
        "\n",
        "# Accessing values\n",
        "print(\"Brand:\", my_dict[\"brand\"])\n",
        "print(\"Model:\", my_dict.get(\"model\")) # Another way to access values\n",
        "\n",
        "# Adding a new key-value pair\n",
        "my_dict[\"color\"] = \"red\"\n",
        "print(\"Dictionary after adding color:\", my_dict)\n",
        "\n",
        "# Changing a value\n",
        "my_dict[\"year\"] = 2020\n",
        "print(\"Dictionary after changing year:\", my_dict)\n",
        "\n",
        "# Deleting an item\n",
        "del my_dict[\"model\"]\n",
        "print(\"Dictionary after deleting model:\", my_dict)\n",
        "\n",
        "# Checking if a key exists\n",
        "print(\"Is 'brand' in dictionary?\", \"brand\" in my_dict)\n",
        "print(\"Is 'model' in dictionary?\", \"model\" in my_dict)"
      ],
      "metadata": {
        "colab": {
          "base_uri": "https://localhost:8080/"
        },
        "id": "Mucd9zC-To5-",
        "outputId": "f576cd21-6bba-4ccb-91e0-d92c48b89ec2"
      },
      "execution_count": null,
      "outputs": [
        {
          "output_type": "stream",
          "name": "stdout",
          "text": [
            "Original dictionary: {'brand': 'Ford', 'model': 'Mustang', 'year': 1964}\n",
            "Brand: Ford\n",
            "Model: Mustang\n",
            "Dictionary after adding color: {'brand': 'Ford', 'model': 'Mustang', 'year': 1964, 'color': 'red'}\n",
            "Dictionary after changing year: {'brand': 'Ford', 'model': 'Mustang', 'year': 2020, 'color': 'red'}\n",
            "Dictionary after deleting model: {'brand': 'Ford', 'year': 2020, 'color': 'red'}\n",
            "Is 'brand' in dictionary? True\n",
            "Is 'model' in dictionary? False\n"
          ]
        }
      ]
    },
    {
      "cell_type": "code",
      "source": [
        "number = 10\n",
        "\n",
        "if number > 0:\n",
        "  print(\"The number is positive\")\n",
        "else:\n",
        "  print(\"The number is not positive\")"
      ],
      "metadata": {
        "colab": {
          "base_uri": "https://localhost:8080/"
        },
        "id": "jQYaVy1OV2XW",
        "outputId": "827414ea-a40d-4596-fb9f-c6f76ab5f1e2"
      },
      "execution_count": null,
      "outputs": [
        {
          "output_type": "stream",
          "name": "stdout",
          "text": [
            "The number is positive\n"
          ]
        }
      ]
    },
    {
      "cell_type": "markdown",
      "source": [
        "# Python lab 13/8/2025"
      ],
      "metadata": {
        "id": "w6NPGnzbHjS8"
      }
    },
    {
      "cell_type": "code",
      "source": [
        "a=5\n",
        "b=6\n",
        "c=a+b\n",
        "print(c)"
      ],
      "metadata": {
        "colab": {
          "base_uri": "https://localhost:8080/"
        },
        "id": "0R9od3slHrGV",
        "outputId": "a583666d-d808-4613-c051-8ab898f719fb"
      },
      "execution_count": null,
      "outputs": [
        {
          "output_type": "stream",
          "name": "stdout",
          "text": [
            "11\n"
          ]
        }
      ]
    },
    {
      "cell_type": "code",
      "source": [
        "print(\"hi\"+\"world\")"
      ],
      "metadata": {
        "colab": {
          "base_uri": "https://localhost:8080/"
        },
        "id": "SVrqDNsbJ50-",
        "outputId": "2001d5d3-2cf7-4bff-b6ba-6465b76d6922"
      },
      "execution_count": null,
      "outputs": [
        {
          "output_type": "stream",
          "name": "stdout",
          "text": [
            "hiworld\n"
          ]
        }
      ]
    },
    {
      "cell_type": "code",
      "source": [
        "# checking indentation error\n",
        "if (a>5):\n",
        "print(\"done\")"
      ],
      "metadata": {
        "id": "nEclTN6RKl-C",
        "outputId": "c5b3a7dc-fcd6-4828-80f4-21a429fe00f6",
        "colab": {
          "base_uri": "https://localhost:8080/",
          "height": 106
        }
      },
      "execution_count": null,
      "outputs": [
        {
          "output_type": "error",
          "ename": "IndentationError",
          "evalue": "expected an indented block after 'if' statement on line 2 (ipython-input-3285665532.py, line 3)",
          "traceback": [
            "\u001b[0;36m  File \u001b[0;32m\"/tmp/ipython-input-3285665532.py\"\u001b[0;36m, line \u001b[0;32m3\u001b[0m\n\u001b[0;31m    print(\"done\")\u001b[0m\n\u001b[0m    ^\u001b[0m\n\u001b[0;31mIndentationError\u001b[0m\u001b[0;31m:\u001b[0m expected an indented block after 'if' statement on line 2\n"
          ]
        }
      ]
    },
    {
      "cell_type": "code",
      "source": [
        "# swap algorihm\n",
        "a=5\n",
        "b=6\n",
        "temp=a\n",
        "a=b\n",
        "b=temp\n",
        "print(a,b)"
      ],
      "metadata": {
        "id": "DvoipqQ1Kwa4"
      },
      "execution_count": null,
      "outputs": []
    },
    {
      "cell_type": "code",
      "source": [
        "# Tuple packing\n",
        "packed_tuple = (1, 2, 3)\n",
        "print(\"Packed tuple:\", packed_tuple)\n",
        "\n",
        "# Tuple unpacking\n",
        "x, y, z = packed_tuple\n",
        "print(\"Unpacked variables:\", x, y, z)"
      ],
      "metadata": {
        "id": "86Fu7vE1Mk4U"
      },
      "execution_count": null,
      "outputs": []
    },
    {
      "cell_type": "code",
      "source": [
        "email=\"xyzextc@gmail.com\"\n",
        "x,y=email.split('@')\n",
        "print(x,y)"
      ],
      "metadata": {
        "id": "iuuYPXTfNLhy"
      },
      "execution_count": null,
      "outputs": []
    },
    {
      "cell_type": "code",
      "source": [
        "# Basic arithmetic operators\n",
        "\n",
        "a = 10\n",
        "b = 5\n",
        "\n",
        "# Addition\n",
        "sum_result = a + b\n",
        "print(f\"Addition: {a} + {b} = {sum_result}\")\n",
        "\n",
        "# Subtraction\n",
        "difference = a - b\n",
        "print(f\"Subtraction: {a} - {b} = {difference}\")\n",
        "\n",
        "# Multiplication\n",
        "product = a * b\n",
        "print(f\"Multiplication: {a} * {b} = {product}\")\n",
        "\n",
        "# Division\n",
        "division_result = a / b\n",
        "print(f\"Division: {a} / {b} = {division_result}\")\n",
        "\n",
        "# Modulo (remainder)\n",
        "modulo_result = a % b\n",
        "print(f\"Modulo: {a} % {b} = {modulo_result}\")\n",
        "\n",
        "# # Exponentiation\n",
        "# exponentiation_result = a ** b\n",
        "# print(f\"Exponentiation: {a} ** {b} = {exponentiation_result}\")"
      ],
      "metadata": {
        "id": "3A2NuRlYOIcU"
      },
      "execution_count": null,
      "outputs": []
    },
    {
      "cell_type": "code",
      "source": [
        "print(a>b)\n",
        "print(a==b)\n",
        "print(a!=b)\n",
        "print(a>=b)\n",
        "print(a<=b)"
      ],
      "metadata": {
        "id": "YSJo6-TtQOrl"
      },
      "execution_count": null,
      "outputs": []
    },
    {
      "cell_type": "code",
      "source": [
        "# assisgnment operator\n",
        "c=5\n",
        "a=5\n",
        "b=10\n",
        "c+=a\n",
        "print(c)\n",
        "c-=b\n",
        "print(c)"
      ],
      "metadata": {
        "colab": {
          "base_uri": "https://localhost:8080/"
        },
        "id": "PpM1LCpiRY7L",
        "outputId": "ff09ad56-a9fd-4fda-d912-0a53538d3c71"
      },
      "execution_count": null,
      "outputs": [
        {
          "output_type": "stream",
          "name": "stdout",
          "text": [
            "10\n",
            "0\n"
          ]
        }
      ]
    },
    {
      "cell_type": "code",
      "source": [
        "# bitwise operators\n",
        "\n",
        "a = 6  # Binary: 110\n",
        "b = 3  # Binary: 011\n",
        "\n",
        "\n",
        "print(f\"a & b = {a & b}\")\n",
        "\n",
        "\n",
        "print(f\"a | b = {a | b}\")\n",
        "\n",
        "\n",
        "print(f\"a ^ b = {a ^ b}\")\n",
        "\n",
        "\n",
        "print(f\"a << 1 = {a << 1}\")\n",
        "\n",
        "print(f\"a >> 1 = {a >> 3}\")"
      ],
      "metadata": {
        "colab": {
          "base_uri": "https://localhost:8080/"
        },
        "id": "DxmVP3b1TL8e",
        "outputId": "4ebd5733-4825-49bf-cfbc-a302fad81417"
      },
      "execution_count": null,
      "outputs": [
        {
          "output_type": "stream",
          "name": "stdout",
          "text": [
            "a & b = 2\n",
            "a | b = 7\n",
            "a ^ b = 5\n",
            "a << 1 = 12\n",
            "a >> 1 = 0\n"
          ]
        }
      ]
    },
    {
      "cell_type": "code",
      "source": [
        "# Basic operator precedence - BODMAS\n",
        "\n",
        "# Example 1: Multiplication and Addition\n",
        "result1 = 2 + 3 * 4  # Multiplication happens before addition\n",
        "print(f\"Result of 2 + 3 * 4: {result1}\")\n",
        "\n",
        "# Example 2: Parentheses\n",
        "result2 = (2 + 3) * 4  # Parentheses change the order of operations\n",
        "print(f\"Result of (2 + 3) * 4: {result2}\")\n",
        "\n",
        "# Example 3: Division and Subtraction\n",
        "result3 = 10 - 4 / 2  # Division happens before subtraction\n",
        "print(f\"Result of 10 - 4 / 2: {result3}\")\n",
        "\n",
        "# Example 4: Exponentiation\n",
        "result4 = 2 ** 3 + 1  # Exponentiation happens before addition\n",
        "print(f\"Result of 2 ** 3 + 1: {result4}\")\n",
        "\n",
        "# Example 5: Combination\n",
        "result5 = (5 + 3) * 2 - 10 / 5 # Parentheses, then multiplication/division, then addition/subtraction\n",
        "print(f\"Result of (5 + 3) * 2 - 10 / 5: {result5}\")"
      ],
      "metadata": {
        "colab": {
          "base_uri": "https://localhost:8080/"
        },
        "id": "qOPsJ1RIW8Om",
        "outputId": "1c17f1e8-4f0a-4a61-f80d-acc7a63924da"
      },
      "execution_count": null,
      "outputs": [
        {
          "output_type": "stream",
          "name": "stdout",
          "text": [
            "Result of 2 + 3 * 4: 14\n",
            "Result of (2 + 3) * 4: 20\n",
            "Result of 10 - 4 / 2: 8.0\n",
            "Result of 2 ** 3 + 1: 9\n",
            "Result of (5 + 3) * 2 - 10 / 5: 14.0\n"
          ]
        }
      ]
    },
    {
      "cell_type": "code",
      "metadata": {
        "colab": {
          "base_uri": "https://localhost:8080/"
        },
        "id": "7a68134d",
        "outputId": "9be2f179-fe16-4b7f-831f-4de0ace4afe7"
      },
      "source": [
        "# Define a basic function\n",
        "def greet(name):\n",
        "  \"\"\"This function greets the person passed in as a parameter.\"\"\"\n",
        "  print(f\"Hello, {name}!\")\n",
        "\n",
        "# Call the function\n",
        "greet(\"Rohan\")\n",
        "greet(\"Coder\")"
      ],
      "execution_count": null,
      "outputs": [
        {
          "output_type": "stream",
          "name": "stdout",
          "text": [
            "Hello, Rohan!\n",
            "Hello, Coder!\n"
          ]
        }
      ]
    },
    {
      "cell_type": "code",
      "source": [
        "numbers=[10,25,5,60]\n",
        "maxi=max(numbers)\n",
        "mini=min(numbers)\n",
        "print(maxi, mini)"
      ],
      "metadata": {
        "colab": {
          "base_uri": "https://localhost:8080/"
        },
        "id": "EV9_VO5eozJd",
        "outputId": "5c42081a-8a20-4fde-8159-3b07075c9abd"
      },
      "execution_count": null,
      "outputs": [
        {
          "output_type": "stream",
          "name": "stdout",
          "text": [
            "60 5\n"
          ]
        }
      ]
    },
    {
      "cell_type": "code",
      "source": [
        "print(list(range(2,8,5)))"
      ],
      "metadata": {
        "colab": {
          "base_uri": "https://localhost:8080/"
        },
        "id": "62XvMy22rAyE",
        "outputId": "7b506c14-f78f-43d3-cc8e-3f834c1b4051"
      },
      "execution_count": null,
      "outputs": [
        {
          "output_type": "stream",
          "name": "stdout",
          "text": [
            "[2, 7]\n"
          ]
        }
      ]
    },
    {
      "cell_type": "code",
      "source": [
        "def add(a,b):\n",
        "  return a+b\n",
        "\n",
        "print(add(5,6))"
      ],
      "metadata": {
        "colab": {
          "base_uri": "https://localhost:8080/"
        },
        "id": "wWPXfESWsGFh",
        "outputId": "82397344-8e93-4f4d-bfc0-cbb6b576d558"
      },
      "execution_count": null,
      "outputs": [
        {
          "output_type": "stream",
          "name": "stdout",
          "text": [
            "11\n"
          ]
        }
      ]
    },
    {
      "cell_type": "code",
      "source": [
        "def add():\n",
        "  a=int(input(\"Enter first number: \"))\n",
        "  b=int(input(\"Enter second number: \"))\n",
        "  return a+b\n",
        "\n",
        "print(add())"
      ],
      "metadata": {
        "id": "6GSkgpdytcC_"
      },
      "execution_count": null,
      "outputs": []
    },
    {
      "cell_type": "code",
      "source": [
        "# Basic built-in functions\n",
        "\n",
        "# max(), min(), and len()\n",
        "print(f\"Max of [1, 5, 2]: {max([1, 5, 2])}\")\n",
        "print(f\"Min of [1, 5, 2]: {min([1, 5, 2])}\")\n",
        "print(f\"Length of 'hello': {len('hello')}\")\n",
        "\n",
        "# range()\n",
        "print(\"Range from 0 to 3:\")\n",
        "for i in range(4):\n",
        "  print(i)\n",
        "\n",
        "# round()\n",
        "print(f\"Round 3.7 to nearest integer: {round(3.7)}\")\n",
        "\n",
        "# chr() and int()\n",
        "print(f\"Character for ASCII 66: {chr(66)}\")\n",
        "print(f\"Integer from float 9.9: {int(9.9)}\")"
      ],
      "metadata": {
        "id": "4P-xPFsDvpkL"
      },
      "execution_count": null,
      "outputs": []
    },
    {
      "cell_type": "code",
      "source": [
        "# Simple examples of max(), min(), and range()\n",
        "\n",
        "# Using max() and min() with a list of numbers\n",
        "numbers = [10, 4, 25, 8]\n",
        "maximum_number = max(numbers)\n",
        "minimum_number = min(numbers)\n",
        "print(\"The maximum number in the list is:\", maximum_number)\n",
        "print(\"The minimum number in the list is:\", minimum_number)\n",
        "\n",
        "# Using range() to iterate through numbers\n",
        "print(\"Counting from 0 to 4 using range():\")\n",
        "for i in range(5):\n",
        "  print(i)\n",
        "\n",
        "print(\"Counting from 2 to 5 using range(2, 6):\")\n",
        "for i in range(2, 6):\n",
        "  print(i)"
      ],
      "metadata": {
        "id": "HuP48kxhvsjq"
      },
      "execution_count": null,
      "outputs": []
    },
    {
      "cell_type": "code",
      "source": [
        "print(list(range(2, 8, 1)))"
      ],
      "metadata": {
        "id": "l5akID5VvvEU"
      },
      "execution_count": null,
      "outputs": []
    },
    {
      "cell_type": "code",
      "source": [
        "print(f\"{list(range(2,20,1))}\\n\")"
      ],
      "metadata": {
        "id": "PpMef9o5vxD6"
      },
      "execution_count": null,
      "outputs": []
    },
    {
      "cell_type": "code",
      "source": [
        "def myadd(a,b):\n",
        "  return a+b\n",
        "print(myadd(5,6))"
      ],
      "metadata": {
        "id": "EVLLpRqUv55C"
      },
      "execution_count": null,
      "outputs": []
    },
    {
      "cell_type": "code",
      "source": [
        "def myadd2():\n",
        "  a = input(\"Enter first number a: \")\n",
        "  b = input(\"Enter first number b: \")\n",
        "  print(int(a)+int(b))\n",
        "myadd2()"
      ],
      "metadata": {
        "id": "pK0XA_sFv709"
      },
      "execution_count": null,
      "outputs": []
    },
    {
      "cell_type": "code",
      "source": [
        "def myDetails(name,age):\n",
        "  print(\"Name: \"+ name)\n",
        "  print(\"Age: \" + age)\n",
        "myDetails(\"Rohan\",\"18\")\n",
        "myDetails(\"Arhan\",\"19\")\n",
        "myDetails(\"Rayon\",\"100\")\n"
      ],
      "metadata": {
        "id": "c-VHzfPUwb4y"
      },
      "execution_count": null,
      "outputs": []
    },
    {
      "cell_type": "code",
      "source": [
        "def myDetails2(name, age=40):\n",
        "  print(\"Name: \"+ name)\n",
        "myDetails2(name = \"Rohan\")"
      ],
      "metadata": {
        "id": "xrhzIbVExJdb"
      },
      "execution_count": null,
      "outputs": []
    },
    {
      "cell_type": "code",
      "source": [
        "def myDetailsvar(*name):\n",
        "  print(*name)\n",
        "myDetailsvar(\"Rayon\", \"Arhan\", \"Sahil\", \"Harshit\")"
      ],
      "metadata": {
        "id": "nxWGP4IAyT29"
      },
      "execution_count": null,
      "outputs": []
    },
    {
      "cell_type": "code",
      "source": [
        "import math\n",
        "print(math.sqrt(100))"
      ],
      "metadata": {
        "id": "djzONV4u0g0P"
      },
      "execution_count": null,
      "outputs": []
    },
    {
      "cell_type": "code",
      "source": [
        "a=5\n",
        "b=6\n",
        "a,b=b,a\n",
        "print(a,b)"
      ],
      "metadata": {
        "colab": {
          "base_uri": "https://localhost:8080/"
        },
        "id": "hMrbRXpg0FsV",
        "outputId": "c398792e-ef96-4057-d9de-26f58beacaae"
      },
      "execution_count": null,
      "outputs": [
        {
          "output_type": "stream",
          "name": "stdout",
          "text": [
            "6 5\n"
          ]
        }
      ]
    },
    {
      "cell_type": "code",
      "source": [
        "import math\n",
        "\n",
        "x2,x1=15,10\n",
        "y2,y1=32,21\n",
        "print(math.sqrt((x2-x1)**2+(y2-y1)**2))"
      ],
      "metadata": {
        "colab": {
          "base_uri": "https://localhost:8080/"
        },
        "id": "fkGLvHZ_1UJb",
        "outputId": "50229e5d-eeb8-4d9b-bbf9-90f26e14a80c"
      },
      "execution_count": null,
      "outputs": [
        {
          "output_type": "stream",
          "name": "stdout",
          "text": [
            "12.083045973594572\n"
          ]
        }
      ]
    },
    {
      "cell_type": "code",
      "source": [
        "math=int(input(\"enter math marks\"))\n",
        "phy=int(input(\"enter phy marks\"))\n",
        "chem=int(input(\"enter chem marks\"))\n",
        "cutoff=math/4+phy/4+chem/2\n",
        "print(cutoff)"
      ],
      "metadata": {
        "id": "7nsBhshy1qN0",
        "colab": {
          "base_uri": "https://localhost:8080/"
        },
        "outputId": "4de8d8e8-f1ba-44aa-8afb-cd1d98c78818"
      },
      "execution_count": null,
      "outputs": [
        {
          "output_type": "stream",
          "name": "stdout",
          "text": [
            "enter math marks100\n",
            "enter phy marks100\n",
            "enter chem marks100\n",
            "100.0\n"
          ]
        }
      ]
    },
    {
      "cell_type": "markdown",
      "source": [
        "# 9/9/25"
      ],
      "metadata": {
        "id": "wsnIUJagZkfH"
      }
    },
    {
      "cell_type": "code",
      "source": [
        "num = input(\"Enter a number: \")\n",
        "num = int(num)\n",
        "if num>0:\n",
        "  print(\"Positive\")\n",
        "elif num<0:\n",
        "  print(\"Negative\")\n",
        "else:\n",
        "  print(\"Number is 0\")\n",
        "\n"
      ],
      "metadata": {
        "colab": {
          "base_uri": "https://localhost:8080/"
        },
        "id": "pm_fjPEyYUMX",
        "outputId": "83e8f282-de77-47e0-9e09-9d72d823de59"
      },
      "execution_count": 4,
      "outputs": [
        {
          "output_type": "stream",
          "name": "stdout",
          "text": [
            "Enter a number: 0\n",
            "Number is 0\n"
          ]
        }
      ]
    },
    {
      "cell_type": "code",
      "source": [
        "num = input(\"Enter a number: \")\n",
        "num = int(num)\n",
        "if num%2==0:\n",
        "  print(\"Even\")\n",
        "else:\n",
        "  print(\"Odd\")"
      ],
      "metadata": {
        "id": "g_JbeWyEaJBg",
        "outputId": "e0b1a0ad-93f7-4d64-c477-f1bf37ed761a",
        "colab": {
          "base_uri": "https://localhost:8080/"
        }
      },
      "execution_count": 7,
      "outputs": [
        {
          "output_type": "stream",
          "name": "stdout",
          "text": [
            "Enter a number: 46454\n",
            "Even\n"
          ]
        }
      ]
    },
    {
      "cell_type": "code",
      "source": [],
      "metadata": {
        "id": "HXbsckP6aPPZ"
      },
      "execution_count": null,
      "outputs": []
    }
  ]
}