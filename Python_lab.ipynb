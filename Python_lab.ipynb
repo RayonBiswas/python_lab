{
  "nbformat": 4,
  "nbformat_minor": 0,
  "metadata": {
    "colab": {
      "provenance": [],
      "include_colab_link": true
    },
    "kernelspec": {
      "name": "python3",
      "display_name": "Python 3"
    },
    "language_info": {
      "name": "python"
    }
  },
  "cells": [
    {
      "cell_type": "markdown",
      "metadata": {
        "id": "view-in-github",
        "colab_type": "text"
      },
      "source": [
        "<a href=\"https://colab.research.google.com/github/Archaive16/python_lab/blob/main/Python_lab.ipynb\" target=\"_parent\"><img src=\"https://colab.research.google.com/assets/colab-badge.svg\" alt=\"Open In Colab\"/></a>"
      ]
    },
    {
      "cell_type": "markdown",
      "source": [
        "# Python Lab 31/7/2025"
      ],
      "metadata": {
        "id": "WS-3H2sOTBUs"
      }
    },
    {
      "cell_type": "code",
      "source": [],
      "metadata": {
        "id": "lGmm7uM7W4np"
      },
      "execution_count": null,
      "outputs": []
    },
    {
      "cell_type": "code",
      "source": [
        "print(1)\n",
        "\n",
        "x = 2\n",
        "print(x)"
      ],
      "metadata": {
        "colab": {
          "base_uri": "https://localhost:8080/"
        },
        "id": "uhJoV-Uoj7RL",
        "outputId": "b9ea3308-9531-4549-a490-b84a5e3e8c02"
      },
      "execution_count": null,
      "outputs": [
        {
          "output_type": "stream",
          "name": "stdout",
          "text": [
            "1\n",
            "2\n"
          ]
        }
      ]
    },
    {
      "cell_type": "code",
      "source": [
        "print(\"My name is rohan\")\n",
        "\n",
        "name = \"rohan\"\n",
        "\n",
        "print(name)"
      ],
      "metadata": {
        "colab": {
          "base_uri": "https://localhost:8080/"
        },
        "id": "B11OlTaTj9hk",
        "outputId": "60427781-70b1-458b-cce7-6c95eb4df401"
      },
      "execution_count": null,
      "outputs": [
        {
          "output_type": "stream",
          "name": "stdout",
          "text": [
            "My name is rohan\n",
            "rohan\n"
          ]
        }
      ]
    },
    {
      "cell_type": "code",
      "source": [
        "message = 'Good Morning !'\n",
        "\n",
        "print (message)\n",
        "\n",
        "note =\"'This is Paragraph of my text'\"\n",
        "\n",
        "print(note)"
      ],
      "metadata": {
        "colab": {
          "base_uri": "https://localhost:8080/"
        },
        "id": "SA03qyk6j_nX",
        "outputId": "fa744f2d-a491-499d-8378-0bcf26a88d45"
      },
      "execution_count": null,
      "outputs": [
        {
          "output_type": "stream",
          "name": "stdout",
          "text": [
            "Good Morning !\n",
            "'This is Paragraph of my text'\n"
          ]
        }
      ]
    },
    {
      "cell_type": "code",
      "source": [
        "#Indexing\n",
        "\n",
        "s=\"Python Rocks \"\n",
        "\n",
        "print(s[0:6])\n",
        "\n",
        "print(s[7:])\n",
        "\n",
        "print(s[3:9])\n"
      ],
      "metadata": {
        "colab": {
          "base_uri": "https://localhost:8080/"
        },
        "id": "SS47Td-lkBpN",
        "outputId": "7d3d1f1f-95d0-4869-953f-af296b5bc1b3"
      },
      "execution_count": null,
      "outputs": [
        {
          "output_type": "stream",
          "name": "stdout",
          "text": [
            "Python\n",
            "Rocks \n",
            "hon Ro\n"
          ]
        }
      ]
    },
    {
      "cell_type": "code",
      "source": [
        "#Concatenation(Jioning Strings)\n",
        "\n",
        "greeting= \"Hello \"\n",
        "name = \"Coder\"\n",
        "\n",
        "print(greeting + name)\n",
        "\n",
        "print ( s + \" is fun!\")"
      ],
      "metadata": {
        "colab": {
          "base_uri": "https://localhost:8080/"
        },
        "id": "lwyDehMUkD8J",
        "outputId": "06e19e04-41d3-4aa1-e9b9-270150d96718"
      },
      "execution_count": null,
      "outputs": [
        {
          "output_type": "stream",
          "name": "stdout",
          "text": [
            "Hello Coder\n",
            "Python Rocks  is fun!\n"
          ]
        }
      ]
    },
    {
      "cell_type": "code",
      "source": [
        "#Repetition\n",
        "\n",
        "print (s*2)\n"
      ],
      "metadata": {
        "colab": {
          "base_uri": "https://localhost:8080/"
        },
        "id": "-YkTV2FWkF_y",
        "outputId": "d8555d96-2e34-48c7-8062-825176299bb1"
      },
      "execution_count": null,
      "outputs": [
        {
          "output_type": "stream",
          "name": "stdout",
          "text": [
            "Python Rocks Python Rocks \n"
          ]
        }
      ]
    },
    {
      "cell_type": "code",
      "source": [
        "\n",
        "#Membership\n",
        "\n",
        "print(\"P\" in s)\n",
        "\n",
        "print(\"Rocks\" in s)\n",
        "\n",
        "print(\"python\" in s)\n",
        "\n",
        "s[-1]\n",
        "\n",
        "p = 'VJTI is cool'\n",
        "\n",
        "print(p)"
      ],
      "metadata": {
        "colab": {
          "base_uri": "https://localhost:8080/"
        },
        "id": "Rrt0tzPHkI6i",
        "outputId": "d729bba9-5735-4927-af5d-63ac2a3da5c5"
      },
      "execution_count": null,
      "outputs": [
        {
          "output_type": "stream",
          "name": "stdout",
          "text": [
            "True\n",
            "True\n",
            "False\n",
            "VJTI is cool\n"
          ]
        }
      ]
    },
    {
      "cell_type": "code",
      "source": [
        "#LIST\n",
        "\n",
        "fruits = [\"Apple\" , \"Banana\" , \"Cherry\" , \"Mango\"]"
      ],
      "metadata": {
        "id": "6s8vExgCkLmE"
      },
      "execution_count": null,
      "outputs": []
    },
    {
      "cell_type": "code",
      "source": [
        "print(fruits[1:2])\n",
        "print(fruits[2:])\n",
        "print(fruits[2:4])"
      ],
      "metadata": {
        "colab": {
          "base_uri": "https://localhost:8080/"
        },
        "id": "8dMJEAn5jbbJ",
        "outputId": "06e126ec-a4ca-4f27-ad18-97df5819ed4f"
      },
      "execution_count": null,
      "outputs": [
        {
          "output_type": "stream",
          "name": "stdout",
          "text": [
            "['Banana']\n",
            "['Cherry', 'Mango']\n",
            "['Cherry', 'Mango']\n"
          ]
        }
      ]
    },
    {
      "cell_type": "code",
      "source": [
        "veggis=[\"carrot\", \"tomato\"]\n",
        "baskets=veggis+fruits\n",
        "print(baskets)"
      ],
      "metadata": {
        "colab": {
          "base_uri": "https://localhost:8080/"
        },
        "id": "RYjo0CoPju95",
        "outputId": "3830f5c0-6f67-45a4-d7d5-5264a6e04a7f"
      },
      "execution_count": null,
      "outputs": [
        {
          "output_type": "stream",
          "name": "stdout",
          "text": [
            "['carrot', 'tomato', 'Apple', 'Banana', 'Cherry', 'Mango']\n"
          ]
        }
      ]
    },
    {
      "cell_type": "code",
      "source": [
        "print(veggis*2)"
      ],
      "metadata": {
        "colab": {
          "base_uri": "https://localhost:8080/"
        },
        "id": "DFriT5vqkOc-",
        "outputId": "a768b5dd-bf31-4adf-db0d-49c72b4d2dd4"
      },
      "execution_count": null,
      "outputs": [
        {
          "output_type": "stream",
          "name": "stdout",
          "text": [
            "['carrot', 'tomato', 'carrot', 'tomato']\n"
          ]
        }
      ]
    },
    {
      "cell_type": "code",
      "source": [
        "print(\"banana\" in fruits)\n"
      ],
      "metadata": {
        "colab": {
          "base_uri": "https://localhost:8080/"
        },
        "id": "7bhCbZGvkSTn",
        "outputId": "bfbc2c2c-cad2-4ed2-f814-63c88db00536"
      },
      "execution_count": null,
      "outputs": [
        {
          "output_type": "stream",
          "name": "stdout",
          "text": [
            "False\n"
          ]
        }
      ]
    },
    {
      "cell_type": "code",
      "source": [
        "fruits[1]=\"orange\"\n",
        "print(fruits)"
      ],
      "metadata": {
        "colab": {
          "base_uri": "https://localhost:8080/"
        },
        "id": "9yDUro9VkZi4",
        "outputId": "7f6910ae-8fcc-4f95-ec35-bfb6e071bccd"
      },
      "execution_count": null,
      "outputs": [
        {
          "output_type": "stream",
          "name": "stdout",
          "text": [
            "['Apple', 'orange', 'Cherry', 'Mango']\n"
          ]
        }
      ]
    },
    {
      "cell_type": "code",
      "source": [
        "fruits.insert(2,\"grapes\")\n",
        "print(fruits)"
      ],
      "metadata": {
        "colab": {
          "base_uri": "https://localhost:8080/"
        },
        "id": "Ww_soFR2lTQu",
        "outputId": "32700b95-e078-42eb-ad33-290cf513bd0f"
      },
      "execution_count": null,
      "outputs": [
        {
          "output_type": "stream",
          "name": "stdout",
          "text": [
            "['Apple', 'orange', 'grapes', 'Cherry', 'Mango']\n"
          ]
        }
      ]
    },
    {
      "cell_type": "code",
      "source": [
        "fruits.append(\"kiwi\")\n",
        "print(fruits)"
      ],
      "metadata": {
        "colab": {
          "base_uri": "https://localhost:8080/"
        },
        "id": "mkKOqiZyknei",
        "outputId": "636552c9-62a9-4b90-f93a-99fb76f4f891"
      },
      "execution_count": null,
      "outputs": [
        {
          "output_type": "stream",
          "name": "stdout",
          "text": [
            "['Apple', 'orange', 'grapes', 'Cherry', 'Mango', 'kiwi']\n"
          ]
        }
      ]
    },
    {
      "cell_type": "code",
      "source": [
        "fruits.remove(\"Apple\")\n",
        "print(fruits)"
      ],
      "metadata": {
        "colab": {
          "base_uri": "https://localhost:8080/"
        },
        "id": "SgNCtvgTliri",
        "outputId": "44f71f5c-8c4b-4b2b-abed-dab808183bbf"
      },
      "execution_count": null,
      "outputs": [
        {
          "output_type": "stream",
          "name": "stdout",
          "text": [
            "['orange', 'grapes', 'Cherry', 'Mango', 'kiwi']\n"
          ]
        }
      ]
    },
    {
      "cell_type": "code",
      "source": [
        "del fruits[1]\n",
        "print(fruits)"
      ],
      "metadata": {
        "colab": {
          "base_uri": "https://localhost:8080/"
        },
        "id": "eqlBm9-BltqY",
        "outputId": "a16b6601-8b83-4798-bcd0-f053ceece35d"
      },
      "execution_count": null,
      "outputs": [
        {
          "output_type": "stream",
          "name": "stdout",
          "text": [
            "['orange', 'Cherry', 'Mango', 'kiwi']\n"
          ]
        }
      ]
    },
    {
      "cell_type": "code",
      "source": [
        "for _ in fruits:\n",
        "  print(_)"
      ],
      "metadata": {
        "colab": {
          "base_uri": "https://localhost:8080/"
        },
        "id": "OLT1vNqomO-X",
        "outputId": "9f01a445-9f9c-4ab6-fd82-9a41517b834f"
      },
      "execution_count": null,
      "outputs": [
        {
          "output_type": "stream",
          "name": "stdout",
          "text": [
            "orange\n",
            "Cherry\n",
            "Mango\n",
            "kiwi\n"
          ]
        }
      ]
    },
    {
      "cell_type": "code",
      "source": [
        "subjects=(\"maths\" ,\"english\", \"marathi\", \"hindi\", \"history\")\n",
        "print(subjects)"
      ],
      "metadata": {
        "colab": {
          "base_uri": "https://localhost:8080/"
        },
        "id": "26MvGhocnFzn",
        "outputId": "21ceee5b-8164-4cc9-ce7a-28ccb1047d31"
      },
      "execution_count": null,
      "outputs": [
        {
          "output_type": "stream",
          "name": "stdout",
          "text": [
            "('maths', 'english', 'marathi', 'hindi', 'history')\n"
          ]
        }
      ]
    },
    {
      "cell_type": "code",
      "source": [
        "print(subjects[0])\n",
        "print(subjects[-1])\n"
      ],
      "metadata": {
        "colab": {
          "base_uri": "https://localhost:8080/"
        },
        "id": "1gl95_ivoXBM",
        "outputId": "21d89c69-40c5-4a78-9726-d8f4f6a9d67a"
      },
      "execution_count": null,
      "outputs": [
        {
          "output_type": "stream",
          "name": "stdout",
          "text": [
            "maths\n",
            "history\n"
          ]
        }
      ]
    },
    {
      "cell_type": "code",
      "source": [
        "print(subjects[1:4])\n",
        "print(subjects[:3])"
      ],
      "metadata": {
        "colab": {
          "base_uri": "https://localhost:8080/"
        },
        "id": "BQp8zrP_oiyr",
        "outputId": "85bb5b38-a6ce-4658-a77d-fb732d98e490"
      },
      "execution_count": null,
      "outputs": [
        {
          "output_type": "stream",
          "name": "stdout",
          "text": [
            "('english', 'marathi', 'hindi')\n",
            "('maths', 'english', 'marathi')\n"
          ]
        }
      ]
    },
    {
      "cell_type": "code",
      "source": [
        "sport=(\"pe\", \"yoga\")\n",
        "all_lec=subjects+sport\n",
        "print(all_lec)"
      ],
      "metadata": {
        "colab": {
          "base_uri": "https://localhost:8080/"
        },
        "id": "W_B5p5UIo5wh",
        "outputId": "463548e9-3978-437d-c977-827b9aacb44b"
      },
      "execution_count": null,
      "outputs": [
        {
          "output_type": "stream",
          "name": "stdout",
          "text": [
            "('maths', 'english', 'marathi', 'hindi', 'history', 'pe', 'yoga')\n"
          ]
        }
      ]
    },
    {
      "cell_type": "code",
      "source": [
        "print(sport*2)"
      ],
      "metadata": {
        "id": "XJT-lF9GpUwF",
        "outputId": "aad71dfc-7a66-4384-aefc-700e622cdbde",
        "colab": {
          "base_uri": "https://localhost:8080/"
        }
      },
      "execution_count": null,
      "outputs": [
        {
          "output_type": "stream",
          "name": "stdout",
          "text": [
            "('pe', 'yoga', 'pe', 'yoga')\n"
          ]
        }
      ]
    },
    {
      "cell_type": "markdown",
      "source": [
        "# Python Lab 6/8/2025"
      ],
      "metadata": {
        "id": "TLcx-v-WHv44"
      }
    },
    {
      "cell_type": "code",
      "source": [
        "mytuple = (\"apple\", \"banana\", \"cherry\")\n",
        "print(type(mytuple))\n",
        "print(mytuple[1])\n",
        "# Slicing\n",
        "print(mytuple[1:3])\n",
        "print(mytuple*2)"
      ],
      "metadata": {
        "id": "UZxa-rThpUcd",
        "colab": {
          "base_uri": "https://localhost:8080/"
        },
        "outputId": "cac28c80-5e79-4560-bc60-56131fe72cf1"
      },
      "execution_count": null,
      "outputs": [
        {
          "output_type": "stream",
          "name": "stdout",
          "text": [
            "<class 'tuple'>\n",
            "banana\n",
            "('banana', 'cherry')\n",
            "('apple', 'banana', 'cherry', 'apple', 'banana', 'cherry')\n"
          ]
        }
      ]
    },
    {
      "cell_type": "code",
      "source": [
        "# Create a dictionary\n",
        "my_dict = {\"brand\": \"Ford\", \"model\": \"Mustang\", \"year\": 1964}\n",
        "print(\"Original dictionary:\", my_dict)\n",
        "\n",
        "# Accessing values\n",
        "print(\"Brand:\", my_dict[\"brand\"])\n",
        "print(\"Model:\", my_dict.get(\"model\")) # Another way to access values\n",
        "\n",
        "# Adding a new key-value pair\n",
        "my_dict[\"color\"] = \"red\"\n",
        "print(\"Dictionary after adding color:\", my_dict)\n",
        "\n",
        "# Changing a value\n",
        "my_dict[\"year\"] = 2020\n",
        "print(\"Dictionary after changing year:\", my_dict)\n",
        "\n",
        "# Deleting an item\n",
        "del my_dict[\"model\"]\n",
        "print(\"Dictionary after deleting model:\", my_dict)\n",
        "\n",
        "# Checking if a key exists\n",
        "print(\"Is 'brand' in dictionary?\", \"brand\" in my_dict)\n",
        "print(\"Is 'model' in dictionary?\", \"model\" in my_dict)"
      ],
      "metadata": {
        "colab": {
          "base_uri": "https://localhost:8080/"
        },
        "id": "Mucd9zC-To5-",
        "outputId": "61c3348d-69d2-41bc-9b48-0af090300d7d"
      },
      "execution_count": null,
      "outputs": [
        {
          "output_type": "stream",
          "name": "stdout",
          "text": [
            "Original dictionary: {'brand': 'Ford', 'model': 'Mustang', 'year': 1964}\n",
            "Brand: Ford\n",
            "Model: Mustang\n",
            "Dictionary after adding color: {'brand': 'Ford', 'model': 'Mustang', 'year': 1964, 'color': 'red'}\n",
            "Dictionary after changing year: {'brand': 'Ford', 'model': 'Mustang', 'year': 2020, 'color': 'red'}\n",
            "Dictionary after deleting model: {'brand': 'Ford', 'year': 2020, 'color': 'red'}\n",
            "Is 'brand' in dictionary? True\n",
            "Is 'model' in dictionary? False\n"
          ]
        }
      ]
    },
    {
      "cell_type": "code",
      "source": [
        "number = 10\n",
        "\n",
        "if number > 0:\n",
        "  print(\"The number is positive\")\n",
        "else:\n",
        "  print(\"The number is not positive\")"
      ],
      "metadata": {
        "colab": {
          "base_uri": "https://localhost:8080/"
        },
        "id": "jQYaVy1OV2XW",
        "outputId": "3afe0364-4e4a-416d-a99c-1fe3af07d799"
      },
      "execution_count": null,
      "outputs": [
        {
          "output_type": "stream",
          "name": "stdout",
          "text": [
            "The number is positive\n"
          ]
        }
      ]
    },
    {
      "cell_type": "markdown",
      "source": [
        "# Python lab 13/8/2025"
      ],
      "metadata": {
        "id": "w6NPGnzbHjS8"
      }
    },
    {
      "cell_type": "code",
      "source": [
        "a=5\n",
        "b=6\n",
        "c=a+b\n",
        "print(c)"
      ],
      "metadata": {
        "colab": {
          "base_uri": "https://localhost:8080/"
        },
        "id": "0R9od3slHrGV",
        "outputId": "252b54e0-788e-4d51-fb15-e98a80c8b218"
      },
      "execution_count": null,
      "outputs": [
        {
          "output_type": "stream",
          "name": "stdout",
          "text": [
            "11\n"
          ]
        }
      ]
    },
    {
      "cell_type": "code",
      "source": [
        "print(\"hi\"+\"world\")"
      ],
      "metadata": {
        "colab": {
          "base_uri": "https://localhost:8080/"
        },
        "id": "SVrqDNsbJ50-",
        "outputId": "5a1d385f-e9f9-4ba4-adc4-21726fd24b24"
      },
      "execution_count": null,
      "outputs": [
        {
          "output_type": "stream",
          "name": "stdout",
          "text": [
            "hiworld\n"
          ]
        }
      ]
    },
    {
      "cell_type": "code",
      "source": [
        "# checking indentation error\n",
        "if (a>5):\n",
        " print(\"done\")"
      ],
      "metadata": {
        "id": "nEclTN6RKl-C"
      },
      "execution_count": null,
      "outputs": []
    },
    {
      "cell_type": "code",
      "source": [
        "# swap algorihm\n",
        "a=5\n",
        "b=6\n",
        "temp=a\n",
        "a=b\n",
        "b=temp\n",
        "print(a,b)"
      ],
      "metadata": {
        "colab": {
          "base_uri": "https://localhost:8080/"
        },
        "id": "DvoipqQ1Kwa4",
        "outputId": "1cd9082f-da59-44a9-9827-163bf0673ea2"
      },
      "execution_count": null,
      "outputs": [
        {
          "output_type": "stream",
          "name": "stdout",
          "text": [
            "6 5\n"
          ]
        }
      ]
    },
    {
      "cell_type": "code",
      "source": [
        "# Tuple packing\n",
        "packed_tuple = (1, 2, 3)\n",
        "print(\"Packed tuple:\", packed_tuple)\n",
        "\n",
        "# Tuple unpacking\n",
        "x, y, z = packed_tuple\n",
        "print(\"Unpacked variables:\", x, y, z)"
      ],
      "metadata": {
        "colab": {
          "base_uri": "https://localhost:8080/"
        },
        "id": "86Fu7vE1Mk4U",
        "outputId": "8c82a424-e947-4c7e-e795-b6daab24e27e"
      },
      "execution_count": null,
      "outputs": [
        {
          "output_type": "stream",
          "name": "stdout",
          "text": [
            "Packed tuple: (1, 2, 3)\n",
            "Unpacked variables: 1 2 3\n"
          ]
        }
      ]
    },
    {
      "cell_type": "code",
      "source": [
        "email=\"xyzextc@gmail.com\"\n",
        "x,y=email.split('@')\n",
        "print(x,y)"
      ],
      "metadata": {
        "colab": {
          "base_uri": "https://localhost:8080/"
        },
        "id": "iuuYPXTfNLhy",
        "outputId": "6c6f59a4-3b12-44dd-a006-f62bbfa36d45"
      },
      "execution_count": null,
      "outputs": [
        {
          "output_type": "stream",
          "name": "stdout",
          "text": [
            "xyzextc gmail.com\n"
          ]
        }
      ]
    },
    {
      "cell_type": "code",
      "source": [
        "# Basic arithmetic operators\n",
        "\n",
        "a = 10\n",
        "b = 5\n",
        "\n",
        "# Addition\n",
        "sum_result = a + b\n",
        "print(f\"Addition: {a} + {b} = {sum_result}\")\n",
        "\n",
        "# Subtraction\n",
        "difference = a - b\n",
        "print(f\"Subtraction: {a} - {b} = {difference}\")\n",
        "\n",
        "# Multiplication\n",
        "product = a * b\n",
        "print(f\"Multiplication: {a} * {b} = {product}\")\n",
        "\n",
        "# Division\n",
        "division_result = a / b\n",
        "print(f\"Division: {a} / {b} = {division_result}\")\n",
        "\n",
        "# Modulo (remainder)\n",
        "modulo_result = a % b\n",
        "print(f\"Modulo: {a} % {b} = {modulo_result}\")\n",
        "\n",
        "# # Exponentiation\n",
        "# exponentiation_result = a ** b\n",
        "# print(f\"Exponentiation: {a} ** {b} = {exponentiation_result}\")"
      ],
      "metadata": {
        "colab": {
          "base_uri": "https://localhost:8080/"
        },
        "id": "3A2NuRlYOIcU",
        "outputId": "aa016ca3-c721-4403-84a0-22c2c59f8f72"
      },
      "execution_count": null,
      "outputs": [
        {
          "output_type": "stream",
          "name": "stdout",
          "text": [
            "Addition: 10 + 5 = 15\n",
            "Subtraction: 10 - 5 = 5\n",
            "Multiplication: 10 * 5 = 50\n",
            "Division: 10 / 5 = 2.0\n",
            "Modulo: 10 % 5 = 0\n"
          ]
        }
      ]
    },
    {
      "cell_type": "code",
      "source": [
        "print(a>b)\n",
        "print(a==b)\n",
        "print(a!=b)\n",
        "print(a>=b)\n",
        "print(a<=b)"
      ],
      "metadata": {
        "colab": {
          "base_uri": "https://localhost:8080/"
        },
        "id": "YSJo6-TtQOrl",
        "outputId": "8f1bf004-2004-4ef0-f5c2-b14fa90c03ca"
      },
      "execution_count": null,
      "outputs": [
        {
          "output_type": "stream",
          "name": "stdout",
          "text": [
            "True\n",
            "False\n",
            "True\n",
            "True\n",
            "False\n"
          ]
        }
      ]
    },
    {
      "cell_type": "code",
      "source": [
        "# assisgnment operator\n",
        "c=5\n",
        "a=5\n",
        "b=10\n",
        "c+=a\n",
        "print(c)\n",
        "c-=b\n",
        "print(c)"
      ],
      "metadata": {
        "colab": {
          "base_uri": "https://localhost:8080/"
        },
        "id": "PpM1LCpiRY7L",
        "outputId": "5efd2a28-df67-496c-db6a-5bbbe7ed5736"
      },
      "execution_count": null,
      "outputs": [
        {
          "output_type": "stream",
          "name": "stdout",
          "text": [
            "10\n",
            "0\n"
          ]
        }
      ]
    },
    {
      "cell_type": "code",
      "source": [
        "# bitwise operators\n",
        "\n",
        "a = 6  # Binary: 110\n",
        "b = 3  # Binary: 011\n",
        "\n",
        "\n",
        "print(f\"a & b = {a & b}\")\n",
        "\n",
        "\n",
        "print(f\"a | b = {a | b}\")\n",
        "\n",
        "\n",
        "print(f\"a ^ b = {a ^ b}\")\n",
        "\n",
        "\n",
        "print(f\"a << 1 = {a << 1}\")\n",
        "\n",
        "print(f\"a >> 1 = {a >> 3}\")"
      ],
      "metadata": {
        "colab": {
          "base_uri": "https://localhost:8080/"
        },
        "id": "DxmVP3b1TL8e",
        "outputId": "2f67d7d3-7e78-4470-92d6-23d4828d03a7"
      },
      "execution_count": null,
      "outputs": [
        {
          "output_type": "stream",
          "name": "stdout",
          "text": [
            "a & b = 2\n",
            "a | b = 7\n",
            "a ^ b = 5\n",
            "a << 1 = 12\n",
            "a >> 1 = 0\n"
          ]
        }
      ]
    },
    {
      "cell_type": "code",
      "source": [
        "# Basic operator precedence - BODMAS\n",
        "\n",
        "# Example 1: Multiplication and Addition\n",
        "result1 = 2 + 3 * 4  # Multiplication happens before addition\n",
        "print(f\"Result of 2 + 3 * 4: {result1}\")\n",
        "\n",
        "# Example 2: Parentheses\n",
        "result2 = (2 + 3) * 4  # Parentheses change the order of operations\n",
        "print(f\"Result of (2 + 3) * 4: {result2}\")\n",
        "\n",
        "# Example 3: Division and Subtraction\n",
        "result3 = 10 - 4 / 2  # Division happens before subtraction\n",
        "print(f\"Result of 10 - 4 / 2: {result3}\")\n",
        "\n",
        "# Example 4: Exponentiation\n",
        "result4 = 2 ** 3 + 1  # Exponentiation happens before addition\n",
        "print(f\"Result of 2 ** 3 + 1: {result4}\")\n",
        "\n",
        "# Example 5: Combination\n",
        "result5 = (5 + 3) * 2 - 10 / 5 # Parentheses, then multiplication/division, then addition/subtraction\n",
        "print(f\"Result of (5 + 3) * 2 - 10 / 5: {result5}\")"
      ],
      "metadata": {
        "colab": {
          "base_uri": "https://localhost:8080/"
        },
        "id": "qOPsJ1RIW8Om",
        "outputId": "538da034-d93c-49b0-c38d-9d026d97ec9a"
      },
      "execution_count": null,
      "outputs": [
        {
          "output_type": "stream",
          "name": "stdout",
          "text": [
            "Result of 2 + 3 * 4: 14\n",
            "Result of (2 + 3) * 4: 20\n",
            "Result of 10 - 4 / 2: 8.0\n",
            "Result of 2 ** 3 + 1: 9\n",
            "Result of (5 + 3) * 2 - 10 / 5: 14.0\n"
          ]
        }
      ]
    },
    {
      "cell_type": "code",
      "metadata": {
        "colab": {
          "base_uri": "https://localhost:8080/"
        },
        "id": "7a68134d",
        "outputId": "999cd089-d3be-41ad-8f6c-07e381f18f0c"
      },
      "source": [
        "# Define a basic function\n",
        "def greet(name):\n",
        "  \"\"\"This function greets the person passed in as a parameter.\"\"\"\n",
        "  print(f\"Hello, {name}!\")\n",
        "\n",
        "# Call the function\n",
        "greet(\"Rohan\")\n",
        "greet(\"Coder\")"
      ],
      "execution_count": 129,
      "outputs": [
        {
          "output_type": "stream",
          "name": "stdout",
          "text": [
            "Hello, Rohan!\n",
            "Hello, Coder!\n"
          ]
        }
      ]
    }
  ]
}